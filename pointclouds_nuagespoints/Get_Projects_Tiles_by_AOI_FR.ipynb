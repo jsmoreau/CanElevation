{
 "cells": [
  {
   "cell_type": "markdown",
   "id": "98ed1c92-c59e-4d27-b936-f2d91c259090",
   "metadata": {
    "editable": true,
    "slideshow": {
     "slide_type": ""
    },
    "tags": []
   },
   "source": [
    "# [English version here!](./Get_Projects_Tiles_by_AOI_EN.ipynb)\n",
    "# Identifier les projets lidar et les tuiles couvrant une zone d'intérêt\n",
    "Ce tutoriel présente des exemples permettant de déterminer les projets lidar et les tuiles couvrant une région d'intérêt. Nous utilisons les fichiers d'index du produit [Nuages de points lidars - Série CanÉlévation](https://ouvert.canada.ca/data/fr/dataset/7069387e-9986-4297-9f55-0288e9676947). Nous utilisons principalement la librairie [GeoPandas](https://geopandas.org/en/stable/) pour manipuler les couches d'index et effectuer des requêtes spatiales.\n",
    "\n",
    "Dans une application réelle, la liste des tuiles obtenues pour une zone d'intérêt pourrait être utilisée pour construire un flux de travail de traitement plus avancé tel que décrit dans le notebook portant sur la [création d'un modèle numérique d'élévation (MNE) à partir d'un nuage de point lidar en format COPC LAZ](./DEM_from_COPC_lidar_FR.ipynb).\n",
    "\n",
    "\n",
    "## Étapes:\n",
    "1) [Préparer l'environnement](#env)\n",
    "2) [Importer les modules nécessaires](#import)\n",
    "3) [Télécharger les index de produit](#download-index)\n",
    "4) [Créer des objets GeoPandas](#create-gpd-object)\n",
    "5) [Trouver les projets et tuiles couvrant une zone d’intérêt](#find-projects-tiles)\n",
    "6) [Utiliser une zone d'intérêt dans une autre projection](#find-projects-tiles-other-proj)"
   ]
  },
  {
   "cell_type": "markdown",
   "id": "22bfaa03-71ed-49d1-bed3-3381951e64f4",
   "metadata": {},
   "source": [
    "<a id=\"env\"></a>\n",
    "## 1) Préparer l'environnement\n",
    "Pour exécuter ces exemples localement, suivez les étapes suivantes :\n",
    "\n",
    "### 1.1) Récupérer le code source\n",
    "   Dans le répertoire de votre choix sur votre ordinateur, clonez le dépôt en utilisant la commande suivante :\n",
    "   >```bash\n",
    "   >git clone https://github.com/NRCan/CanElevation.git\n",
    "   >```\n",
    "   \n",
    "   Ensuite, accédez au répertoire contenant les notebooks :\n",
    "   >```bash\n",
    "   >cd CanElevation/pointclouds_nuagespoints\n",
    "   >```\n",
    "\n",
    "### 1.2) Installation conda\n",
    "   Nous recommandons d’utiliser conda pour gérer les dépendances.\n",
    "   \n",
    "   Si vous ne l’avez pas encore installé, consultez les [instructions officielles d’installation de Miniconda](https://docs.anaconda.com/miniconda/install/#quick-command-line-install). Les étapes suivantes supposent que conda est accessible depuis votre ligne de commande.\n",
    "\n",
    "### 1.3) Installation des dépendances\n",
    "   Le fichier `requirements.yml` contient toutes les dépendances nécessaires. Créez un nouvel environnement conda à l’aide de la commande suivante :\n",
    "   >```bash\n",
    "   >conda env create -n CanElevation_PointClouds --file requirements.yml\n",
    "   >```\n",
    "   \n",
    "   Ensuite, activez le nouvel environnement créé :\n",
    "   >```bash\n",
    "   >conda activate CanElevation_PointClouds\n",
    "   >```\n",
    "\n",
    "### 1.4) Démarrer Jupyter Notebook\n",
    "   Pour démarrer Jupyter Notebook, exécutez :\n",
    "   >```bash\n",
    "   >jupyter notebook\n",
    "   >```\n",
    "\n",
    "Si vous rencontrez des problèmes ou souhaitez explorer d'autres options de lancement, consultez le [guide utilisateur de Jupyter Notebook](https://jupyter-notebook-beginner-guide.readthedocs.io/en/latest/execute.html).\n",
    "\n",
    "**Vous êtes maintenant prêt à exécuter les cellules de code du notebook.**"
   ]
  },
  {
   "cell_type": "markdown",
   "id": "84f3ec3d-a315-4148-be1a-989fbc86cb92",
   "metadata": {},
   "source": [
    "<a id=\"import\"></a>\n",
    "## 2) Importer les modules nécessaires\n",
    "Dans les exemples suivants, nous utilisons principalement le module `geopandas`. Nous utilisons également le module `requests` pour télécharger les index et le module `zipfile` pour les extraire localement."
   ]
  },
  {
   "cell_type": "code",
   "execution_count": 1,
   "id": "b6e54cff-61f7-4b7b-aed9-0c8dd6a60684",
   "metadata": {},
   "outputs": [],
   "source": [
    "import os\n",
    "import requests\n",
    "import zipfile\n",
    "import geopandas as gpd\n",
    "from shapely import box\n",
    "from IPython.display import display\n",
    "from ipywidgets import Output"
   ]
  },
  {
   "cell_type": "markdown",
   "id": "2eb31869-2b30-4ece-bbe9-3e6ffcc8e9d2",
   "metadata": {
    "editable": true,
    "slideshow": {
     "slide_type": ""
    },
    "tags": []
   },
   "source": [
    "<a id=\"download-index\"></a>\n",
    "## 3) Télécharger les index de produit\n",
    "La [page du produit](https://open.canada.ca/data/en/dataset/7069387e-9986-4297-9f55-0288e9676947) contient les index des projets lidar distribués, ainsi que les tuiles lidar individuelles qui composent chaque projet. Avant de pouvoir travailler avec ces fichiers, nous devons les télécharger et extraire le contenu des fichiers compressées."
   ]
  },
  {
   "cell_type": "code",
   "execution_count": 4,
   "id": "d020309d-9e5f-411f-bbe8-e3557f65532d",
   "metadata": {
    "editable": true,
    "slideshow": {
     "slide_type": ""
    },
    "tags": []
   },
   "outputs": [],
   "source": [
    "# Définir les URLs des index des projets et des tuiles lidar\n",
    "projects_url = 'https://canelevation-lidar-point-clouds.s3.ca-central-1.amazonaws.com/pointclouds_nuagespoints/Index_LiDARprojects_projetslidar.zip'\n",
    "tiles_url = 'https://canelevation-lidar-point-clouds.s3.ca-central-1.amazonaws.com/pointclouds_nuagespoints/Index_LiDARtiles_tuileslidar.zip'\n",
    "\n",
    "# Télécharger et extraire le contenu des index des projets et des tuiles lidar\n",
    "for index_url in (projects_url, tiles_url):\n",
    "    zipname = os.path.basename(index_url)\n",
    "    basename = os.path.splitext(zipname)[0]\n",
    "    \n",
    "    response = requests.get(index_url)\n",
    "    with open(zipname, 'wb') as file:\n",
    "        file.write(response.content)\n",
    "    \n",
    "    with zipfile.ZipFile(zipname, 'r') as zip_ref:\n",
    "        zip_ref.extractall(basename)"
   ]
  },
  {
   "cell_type": "markdown",
   "id": "1fea5da4-29b6-4250-878f-713e2565d88e",
   "metadata": {},
   "source": [
    "<a id=\"create-gpd-object\"></a>\n",
    "## 4) Créer des objets GeoPandas\n",
    "Nous allons utiliser le module `geopandas` pour manipuler les fichiers d’index. Cette librairie offre des outils pour effectuer des opérations spatiales et géométriques. Pour plus de détails, consultez la [documentation de GeoPandas](https://geopandas.org/en/stable/)."
   ]
  },
  {
   "cell_type": "code",
   "execution_count": null,
   "id": "613a2afb-654c-47d9-b338-92b2f3bdae18",
   "metadata": {},
   "outputs": [],
   "source": [
    "# Charger les index des projets et des tuiles LiDAR dans des objets GeoPandas. Le système de référence des index est NAD83(CSRS) - EPSG:4617\n",
    "gdf_projects = gpd.read_file('Index_LiDARprojects_projetslidar/Index_LiDARprojects_projetslidar.shp')\n",
    "gdf_tiles = gpd.read_file('Index_LiDARtiles_tuileslidar/Index_LiDARtiles_tuileslidar.shp')"
   ]
  },
  {
   "cell_type": "markdown",
   "id": "86b9716f-18ab-4868-af86-a14123461e71",
   "metadata": {},
   "source": [
    "<a id=\"find-projects-tiles\"></a>\n",
    "## 5) Trouver les projets et tuiles couvrant une zone d’intérêt\n",
    "Un cas d'usage courant consiste à identifier les projets et les tuiles lidar qui couvrent une zone d’intérêt spécifique. Dans cet exemple, nous définissons une zone d’intérêt et utilisons une requête d’intersection spatiale pour déterminer quels projets et quelles tuiles la recoupent. Les résultats sont ensuite affichés à l’écran."
   ]
  },
  {
   "cell_type": "code",
   "execution_count": null,
   "id": "02005272-948a-4af9-a9c4-a6369e8a72de",
   "metadata": {},
   "outputs": [],
   "source": [
    "# Définir la zone d’intérêt (AOI) sous forme de boîte englobante en NAD83(CSRS) (EPSG:4617)\n",
    "aoi = box(-80, 43.20, -79.971, 43.225)\n",
    "aoi_gdf = gpd.GeoDataFrame({'geometry': [aoi]}, crs=4617)\n",
    "\n",
    "# Filtrer les projets et les tuiles lidar qui recoupent la zone d’intérêt\n",
    "overlapping_projects = gdf_projects[gdf_projects.intersects(aoi_gdf.geometry.iloc[0])]\n",
    "overlapping_tiles = gdf_tiles[gdf_tiles.intersects(aoi_gdf.geometry.iloc[0])]\n",
    "\n",
    "# Afficher les résultats\n",
    "out = Output()\n",
    "with out:\n",
    "    print(f\"Overlapping LiDAR Projects:\")\n",
    "    for _, row in overlapping_projects.iterrows():\n",
    "        print(f\"Project: {row['Project']}, URL: {row['URL']}\")\n",
    "    \n",
    "    print(f\"Overlapping LiDAR Tiles:\")\n",
    "    for _, row in overlapping_tiles.iterrows():\n",
    "        print(f\"Project: {row['Project']}, Tile name: {row['Tile_name']}\")\n",
    "display(out)"
   ]
  },
  {
   "cell_type": "markdown",
   "id": "e0b82366-2bd2-4b6c-9c8e-a971531338f3",
   "metadata": {},
   "source": [
    "<a id=\"find-projects-tiles-other-proj\"></a>\n",
    "\n",
    "## 6) Utiliser une zone d'intérêt dans une autre projection\n",
    "Travaillez-vous avec des coordonnées projetées? Si vous connaissez le code EPSG de votre projection, vous pouvez facilement reprojeter votre zone d’intérêt avant d’effectuer les opérations d’intersection avec les index des projets et des tuiles lidar.\n",
    "\n",
    "Dans l’exemple ci-dessous, nous adaptons le flux de travail précédent pour trouver les projets et les tuiles lidar qui croisent une zone d’intérêt projetée."
   ]
  },
  {
   "cell_type": "code",
   "execution_count": null,
   "id": "4f547e5f-5100-4217-bc9e-12cb79c721ca",
   "metadata": {},
   "outputs": [],
   "source": [
    "# Définir la zone d’intérêt (AOI) sous forme de boîte englobante en NAD83(CSRS) | UTM zone 17N (EPSG:2958)\n",
    "aoi_utm = box(580736, 4783785, 583114, 4785855)\n",
    "\n",
    "# Créer un GeoDataFrame pour la zone d’intérêt avec le système NAD83(CSRS) | UTM zone 17N (EPSG:4617)\n",
    "aoi_gdf = gpd.GeoDataFrame({'geometry': [aoi_utm]}, crs=2958)\n",
    "\n",
    "# Reprojeter la zone d’intérêt en NAD83(CSRS) (EPSG:4617)\n",
    "aoi_gdf = aoi_gdf.to_crs(epsg=4617)\n",
    "\n",
    "# Filtrer les projets et les tuiles lidar qui recoupent la zone d’intérêt\n",
    "overlapping_projects = gdf_projects[gdf_projects.intersects(aoi_gdf.geometry.iloc[0])]\n",
    "overlapping_tiles = gdf_tiles[gdf_tiles.intersects(aoi_gdf.geometry.iloc[0])]\n",
    "\n",
    "# Afficher les résultats\n",
    "out = Output()\n",
    "with out:\n",
    "    print(f\"Overlapping LiDAR Projects:\")\n",
    "    for _, row in overlapping_projects.iterrows():\n",
    "        print(f\"Project: {row['Project']}, URL: {row['URL']}\")\n",
    "    \n",
    "    print(f\"Overlapping LiDAR Tiles:\")\n",
    "    for _, row in overlapping_tiles.iterrows():\n",
    "        print(f\"Project: {row['Project']}, Tile name: {row['Tile_name']}\")\n",
    "display(out)"
   ]
  }
 ],
 "metadata": {
  "kernelspec": {
   "display_name": "Python 3 (ipykernel)",
   "language": "python",
   "name": "python3"
  },
  "language_info": {
   "codemirror_mode": {
    "name": "ipython",
    "version": 3
   },
   "file_extension": ".py",
   "mimetype": "text/x-python",
   "name": "python",
   "nbconvert_exporter": "python",
   "pygments_lexer": "ipython3",
   "version": "3.13.2"
  }
 },
 "nbformat": 4,
 "nbformat_minor": 5
}
