{
 "cells": [
  {
   "cell_type": "markdown",
   "id": "98ed1c92-c59e-4d27-b936-f2d91c259090",
   "metadata": {
    "editable": true,
    "slideshow": {
     "slide_type": ""
    },
    "tags": []
   },
   "source": [
    "# [Version en français ici!](./Get_Projects_Tiles_by_AOI_FR.ipynb)\n",
    "# Identify Lidar Projects and Tiles Covering an Area of Interest\n",
    "This tutorial gives examples of how to find lidar projects and tiles covering a region of interest. We use the index files of the product [LiDAR Point Clouds - CanElevation Series](https://open.canada.ca/data/en/dataset/7069387e-9986-4297-9f55-0288e9676947). Primarily, we use the [geopandas](https://geopandas.org/en/stable/) module to manipulate the index layers and perform spatial queries.\n",
    "\n",
    "In a real application, the list of tiles obtained for an area of interest (AOI) could be used to build a more advanced processing workflow as described in the notebook [creating a digital elevation model (DEM) from a lidar point cloud in COPC LAZ format](./DEM_from_COPC_lidar_EN.ipynb).\n",
    "\n",
    "\n",
    "## Steps:\n",
    "1) [Prepare the Environment](#1-prepare-the-environment)\n",
    "2) [Import Necessary Modules](#2-import-necessary-modules)\n",
    "3) [Download Product Indexes](#3-download-product-indexes)\n",
    "4) [Create GeoPandas Objects](#4-create-geopandas-objects)\n",
    "5) [Find Projects and Tiles Covering an Area of Interest](#5-find-projects-and-tiles-covering-an-area-of-interest)\n",
    "6) [Using an Area of Interest in Another Projection](#6-using-an-area-of-interest-in-another-projection)"
   ]
  },
  {
   "cell_type": "markdown",
   "id": "22bfaa03-71ed-49d1-bed3-3381951e64f4",
   "metadata": {},
   "source": [
    "## 1) Prepare the Environment\n",
    "To run these examples locally, follow these steps:\n",
    "\n",
    "### 1.1) Retrieve the Source Code\n",
    "   In a directory of your choice on your computer, clone the repository using the following command:\n",
    "   >```bash\n",
    "   >git clone https://github.com/NRCan/CanElevation.git\n",
    "   >```\n",
    "   \n",
    "   Then, navigate to the directory containing the notebooks:\n",
    "   >```bash\n",
    "   >cd CanElevation/pointclouds_nuagespoints\n",
    "   >```\n",
    "\n",
    "### 1.2) Install Conda (if needed)\n",
    "   We recommend using conda to manage dependencies.\n",
    "   \n",
    "   If you haven't already installed it, refer to the official [Miniconda installation instructions](https://docs.anaconda.com/miniconda/install/#quick-command-line-install). The following steps assume conda is available from your command line.\n",
    "\n",
    "### 1.3) Install Project Dependencies\n",
    "   The `requirements.yml` file lists all necessary dependencies. Create a new conda environment using the following command:\n",
    "   >```bash\n",
    "   >conda env create -n CanElevation_PointClouds --file requirements.yml\n",
    "   >```\n",
    "   \n",
    "   Then, activate the newly created environment:\n",
    "   >```bash\n",
    "   >conda activate CanElevation_PointClouds\n",
    "   >```\n",
    "\n",
    "### 1.4) Start Jupyter Notebook\n",
    "   To start Jupyter Notebook, run:\n",
    "   >```bash\n",
    "   >jupyter notebook\n",
    "   >```\n",
    "\n",
    "If you encounter issues or want to explore more launch options, refer to the [Jupyter Notebook User Guide](https://jupyter-notebook-beginner-guide.readthedocs.io/en/latest/execute.html).\n",
    "\n",
    "**You are now ready to run the code cells in the notebook.**"
   ]
  },
  {
   "cell_type": "markdown",
   "id": "84f3ec3d-a315-4148-be1a-989fbc86cb92",
   "metadata": {},
   "source": [
    "## 2) Import Necessary Modules\n",
    "In the following examples, we primarily use the `geopandas` module. We also use the `requests` module to download indexes and the `zipfile` module to extract them locally."
   ]
  },
  {
   "cell_type": "code",
   "execution_count": 5,
   "id": "b6e54cff-61f7-4b7b-aed9-0c8dd6a60684",
   "metadata": {},
   "outputs": [],
   "source": [
    "import os\n",
    "import requests\n",
    "import zipfile\n",
    "import geopandas as gpd\n",
    "from shapely import box\n",
    "from IPython.display import display\n",
    "from ipywidgets import Output"
   ]
  },
  {
   "cell_type": "markdown",
   "id": "2eb31869-2b30-4ece-bbe9-3e6ffcc8e9d2",
   "metadata": {
    "editable": true,
    "slideshow": {
     "slide_type": ""
    },
    "tags": []
   },
   "source": [
    "## 3) Download Product Indexes\n",
    "The [product page](https://open.canada.ca/data/en/dataset/7069387e-9986-4297-9f55-0288e9676947) provides indexes for the distributed lidar projects, as well as the individual lidar tiles that make up each project. Before we can work with these files, we need to download and extract the contents of the compressed archives."
   ]
  },
  {
   "cell_type": "code",
   "execution_count": null,
   "id": "d020309d-9e5f-411f-bbe8-e3557f65532d",
   "metadata": {
    "editable": true,
    "slideshow": {
     "slide_type": ""
    },
    "tags": []
   },
   "outputs": [],
   "source": [
    "# Define URLs for the lidar projects and tiles indexes\n",
    "projects_url = 'https://canelevation-lidar-point-clouds.s3.ca-central-1.amazonaws.com/pointclouds_nuagespoints/Index_LiDARprojects_projetslidar.zip'\n",
    "tiles_url = 'https://canelevation-lidar-point-clouds.s3.ca-central-1.amazonaws.com/pointclouds_nuagespoints/Index_LiDARtiles_tuileslidar.zip'\n",
    "\n",
    "# Download and extract contents of the lidar projects and tiles indexes\n",
    "for index_url in (projects_url, tiles_url):\n",
    "    zipname = os.path.basename(index_url)\n",
    "    basename = os.path.splitext(zipname)[0]\n",
    "    \n",
    "    response = requests.get(index_url)\n",
    "    with open(zipname, 'wb') as file:\n",
    "        file.write(response.content)\n",
    "    \n",
    "    with zipfile.ZipFile(zipname, 'r') as zip_ref:\n",
    "        zip_ref.extractall(basename)"
   ]
  },
  {
   "cell_type": "markdown",
   "id": "1fea5da4-29b6-4250-878f-713e2565d88e",
   "metadata": {},
   "source": [
    "## 4) Create GeoPandas Objects\n",
    "We will use the `geopandas` library to work with the index files. This library provides tools for both spatial and geometric operations. For more details, refer to the [GeoPandas documentation](https://geopandas.org/en/stable/)."
   ]
  },
  {
   "cell_type": "code",
   "execution_count": null,
   "id": "613a2afb-654c-47d9-b338-92b2f3bdae18",
   "metadata": {},
   "outputs": [],
   "source": [
    "# Load the lidar projects and tiles indexes into GeoPandas objects. The coordinate reference system of the indexes is NAD83(CSRS) - EPSG:4617\n",
    "gdf_projects = gpd.read_file('Index_LiDARprojects_projetslidar/Index_LiDARprojects_projetslidar.shp')\n",
    "gdf_tiles = gpd.read_file('Index_LiDARtiles_tuileslidar/Index_LiDARtiles_tuileslidar.shp')"
   ]
  },
  {
   "cell_type": "markdown",
   "id": "86b9716f-18ab-4868-af86-a14123461e71",
   "metadata": {},
   "source": [
    "## 5) Find Projects and Tiles Covering an Area of Interest\n",
    "A common use case is to identify the lidar projects and tiles that cover a specific region of interest. In this example, we define an area of interest and use a spatial intersection query to determine which projects and tiles intersect it. The results are then printed to the screen."
   ]
  },
  {
   "cell_type": "code",
   "execution_count": null,
   "id": "02005272-948a-4af9-a9c4-a6369e8a72de",
   "metadata": {},
   "outputs": [],
   "source": [
    "# Define the area of interest (AOI) as a bounding box in NAD83(CSRS) (EPSG:4617)\n",
    "aoi = box(-80, 43.20, -79.971, 43.225)\n",
    "aoi_gdf = gpd.GeoDataFrame({'geometry': [aoi]}, crs=4617)\n",
    "\n",
    "# Filter lidar projects and tiles intersecting the AOI\n",
    "overlapping_projects = gdf_projects[gdf_projects.intersects(aoi_gdf.geometry.iloc[0])]\n",
    "overlapping_tiles = gdf_tiles[gdf_tiles.intersects(aoi_gdf.geometry.iloc[0])]\n",
    "\n",
    "# Display results\n",
    "out = Output()\n",
    "with out:\n",
    "    print(f\"Overlapping lidar projects:\")\n",
    "    for _, row in overlapping_projects.iterrows():\n",
    "        print(f\"  Project: {row['Project']}, URL: {row['URL']}\")\n",
    "    \n",
    "    print(f\"\\nOverlapping lidar tiles:\")\n",
    "    for _, row in overlapping_tiles.iterrows():\n",
    "        print(f\"  Project: {row['Project']}, Tile name: {row['Tile_name']}\")\n",
    "display(out)"
   ]
  },
  {
   "cell_type": "markdown",
   "id": "e0b82366-2bd2-4b6c-9c8e-a971531338f3",
   "metadata": {},
   "source": [
    "## 6) Using an Area of Interest in Another Projection\n",
    "Working with projected coordinates? If you know the EPSG code of your projection, you can easily reproject the area of interest before performing intersection operations with the project and tile indexes.\n",
    "\n",
    "In the example below, we adapt the previous workflow to find the lidar projects and tiles that intersect a projected area of interest."
   ]
  },
  {
   "cell_type": "code",
   "execution_count": null,
   "id": "4f547e5f-5100-4217-bc9e-12cb79c721ca",
   "metadata": {},
   "outputs": [],
   "source": [
    "# Define the area of interest (AOI) as a bounding box in NAD83(CSRS) | UTM zone 17N (EPSG:2958)\n",
    "aoi_utm = box(580736, 4783785, 583114, 4785855)\n",
    "\n",
    "# Create a GeoDataFrame for the AOI using the NAD83(CSRS) | UTM zone 17N (EPSG:2958)\n",
    "aoi_gdf = gpd.GeoDataFrame({'geometry': [aoi_utm]}, crs=2958)\n",
    "\n",
    "# Reproject the AOI to the NAD83(CSRS) (EPSG:4617)\n",
    "aoi_gdf = aoi_gdf.to_crs(epsg=4617)\n",
    "\n",
    "# Filter lidar projects and tiles intersecting the AOI\n",
    "overlapping_projects = gdf_projects[gdf_projects.intersects(aoi_gdf.geometry.iloc[0])]\n",
    "overlapping_tiles = gdf_tiles[gdf_tiles.intersects(aoi_gdf.geometry.iloc[0])]\n",
    "\n",
    "# Display results\n",
    "out = Output()\n",
    "with out:\n",
    "    print(f\"Overlapping lidar projects:\")\n",
    "    for _, row in overlapping_projects.iterrows():\n",
    "        print(f\"  Project: {row['Project']}, URL: {row['URL']}\")\n",
    "    \n",
    "    print(f\"\\nOverlapping lidar tiles:\")\n",
    "    for _, row in overlapping_tiles.iterrows():\n",
    "        print(f\"  Project: {row['Project']}, Tile name: {row['Tile_name']}\")\n",
    "display(out)"
   ]
  }
 ],
 "metadata": {
  "kernelspec": {
   "display_name": "Python 3 (ipykernel)",
   "language": "python",
   "name": "python3"
  },
  "language_info": {
   "codemirror_mode": {
    "name": "ipython",
    "version": 3
   },
   "file_extension": ".py",
   "mimetype": "text/x-python",
   "name": "python",
   "nbconvert_exporter": "python",
   "pygments_lexer": "ipython3",
   "version": "3.13.2"
  }
 },
 "nbformat": 4,
 "nbformat_minor": 5
}
